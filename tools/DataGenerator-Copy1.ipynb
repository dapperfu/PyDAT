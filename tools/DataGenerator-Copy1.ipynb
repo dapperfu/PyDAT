{
 "cells": [
  {
   "cell_type": "code",
   "execution_count": 2,
   "metadata": {
    "collapsed": false
   },
   "outputs": [],
   "source": [
    "from scipy import signal\n",
    "from scipy import io\n",
    "# pylab combines pyplot with numpy into a single namespace. This is convenient for interactive work, \n",
    "# but for programming it is recommended that the namespaces be kept separate, e.g.:\n",
    "import numpy as np"
   ]
  },
  {
   "cell_type": "code",
   "execution_count": 3,
   "metadata": {
    "collapsed": false
   },
   "outputs": [],
   "source": [
    "def gen_square(t, freq=1, duty=0.5):\n",
    "    return signal.square(2 * np.pi * freq * t, duty)\n",
    "\n",
    "def gen_sine(t, freq=1, phase=0):\n",
    "    return np.sin(2 * np.pi * freq * t + phase*np.pi/180)\n",
    "\n",
    "def gen_sine2(t, amplitude = 1, offset=0, *args, **kwargs):\n",
    "    return amplitude*gen_sine(t, *args, **kwargs)+offset"
   ]
  },
  {
   "cell_type": "code",
   "execution_count": 4,
   "metadata": {
    "collapsed": false
   },
   "outputs": [],
   "source": [
    "def gen_time(T_end = 10, dT=0.1):\n",
    "    return np.arange(0, T_end+dT, dT)"
   ]
  },
  {
   "cell_type": "code",
   "execution_count": 5,
   "metadata": {
    "collapsed": false
   },
   "outputs": [],
   "source": [
    "t1 = gen_time(T_end=100, dT=1)\n",
    "t2 = gen_time(T_end=100, dT=0.1)\n",
    "t3 = gen_time(T_end=100, dT=0.015)"
   ]
  },
  {
   "cell_type": "code",
   "execution_count": 8,
   "metadata": {
    "collapsed": false
   },
   "outputs": [],
   "source": [
    "square_t1 = gen_square(t1, freq=0.1, duty=0.5)\n",
    "\n",
    "square_t3 = gen_square(t3, freq=0.1, duty=0.5)\n",
    "\n",
    "sine_t1 = gen_sine(t1, freq=0.01)\n",
    "sine_t2 = gen_sine2(t2, amplitude=2, offset=2, freq=0.1)\n",
    "sine_t3 = gen_sine(t3, freq=0.1)\n",
    "\n",
    "data=dict()\n",
    "data[\"t1\"]=t1\n",
    "data[\"t2\"]=t2\n",
    "data[\"t3\"]=t3\n",
    "data[\"sine_t1\"]=sine_t1\n",
    "data[\"sine_t2\"]=sine_t2\n",
    "data[\"sine_t3\"]=sine_t3\n",
    "\n",
    "data[\"square_t1\"]=square_t1\n",
    "data[\"square_t3\"]=square_t3\n",
    "\n",
    "io.savemat(\"faux_data.mat\", mdict = data, long_field_names=True, do_compression=True)"
   ]
  },
  {
   "cell_type": "code",
   "execution_count": null,
   "metadata": {
    "collapsed": true
   },
   "outputs": [],
   "source": []
  }
 ],
 "metadata": {
  "kernelspec": {
   "display_name": "Python 3",
   "language": "python",
   "name": "python3"
  },
  "language_info": {
   "codemirror_mode": {
    "name": "ipython",
    "version": 3
   },
   "file_extension": ".py",
   "mimetype": "text/x-python",
   "name": "python",
   "nbconvert_exporter": "python",
   "pygments_lexer": "ipython3",
   "version": "3.5.2"
  }
 },
 "nbformat": 4,
 "nbformat_minor": 1
}
